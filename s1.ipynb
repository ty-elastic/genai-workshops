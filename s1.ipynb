{
  "cells": [
    {
      "cell_type": "markdown",
      "metadata": {
        "id": "YeTXscrkNOF1"
      },
      "source": [
        "# [Session 1] Introduction to Generative AI\n",
        "\n",
        "This notebook includes *all* the labs of Session 1.  They are meant to be run in order. If you finish early, try playing around with the LLMs loaded to that point.\n",
        "\n",
        "## Download env file\n",
        "\n",
        "Your instructor will provide you with the WORKSHOP_KEY. Please replace WORKSHOP_KEY in the command below:"
      ]
    },
    {
      "cell_type": "code",
      "execution_count": null,
      "metadata": {},
      "outputs": [],
      "source": [
        "!curl -L -d 'id=WORKSHOP_KEY' -G 'http://34.75.242.250:8501/env' -o env"
      ]
    },
    {
      "cell_type": "code",
      "execution_count": null,
      "metadata": {},
      "outputs": [],
      "source": [
        "import IPython\n",
        "\n",
        "\n",
        "\n",
        "js_code = \\\n",
        "'''\n",
        "let message = window.location.href;\n",
        "document.querySelector(\"#output-area\").appendChild(document.createTextNode(message));\n",
        "'''\n",
        "\n",
        "display(IPython.display.Javascript(js_code))"
      ]
    },
    {
      "cell_type": "markdown",
      "metadata": {
        "id": "Sm8uPLZxNOF3"
      },
      "source": [
        "## Lab 1-1: Introduction and Transformer Models\n",
        "\n",
        "In this lab we will\n",
        "* Intro to Google Colab - Hello World, importing python libraries\n",
        "* Caching the download of a smaller LLM\n",
        "* Using a basic transformer models locally"
      ]
    }
  ],
  "metadata": {
    "colab": {
      "provenance": []
    },
    "kernelspec": {
      "display_name": "Python 3",
      "name": "python3"
    },
    "language_info": {
      "name": "python"
    }
  },
  "nbformat": 4,
  "nbformat_minor": 0
}
